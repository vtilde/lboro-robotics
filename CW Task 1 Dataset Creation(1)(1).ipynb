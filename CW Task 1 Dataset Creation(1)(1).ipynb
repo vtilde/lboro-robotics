{
 "cells": [
  {
   "cell_type": "markdown",
   "id": "1a6ed05c-bb5c-4202-8485-8a97d8d8742e",
   "metadata": {},
   "source": [
    "# Capture Images"
   ]
  },
  {
   "cell_type": "code",
   "execution_count": 1,
   "id": "89f70de3-ff6b-4c49-bfaa-17e922ae5055",
   "metadata": {},
   "outputs": [],
   "source": [
    "import ipywidgets as widgets\n",
    "from ipywidgets import interact\n",
    "from IPython.display import display\n",
    "import time\n",
    "import motors\n",
    "import cv2\n",
    "import pyzed.sl as sl\n",
    "import math\n",
    "import numpy as np\n",
    "import sys\n",
    "import threading\n",
    "import matplotlib.pyplot as plt"
   ]
  },
  {
   "cell_type": "code",
   "execution_count": 2,
   "id": "1c737251-7fbc-4755-b6d6-c583e56911e2",
   "metadata": {},
   "outputs": [
    {
     "data": {
      "application/vnd.jupyter.widget-view+json": {
       "model_id": "f5f26d74a24747669ba3fe7b21c59b1f",
       "version_major": 2,
       "version_minor": 0
      },
      "text/plain": [
       "HBox(children=(Image(value=b'', format='jpeg', width='30%'), Image(value=b'', format='jpeg', width='30%')), la…"
      ]
     },
     "metadata": {},
     "output_type": "display_data"
    },
    {
     "data": {
      "application/vnd.jupyter.widget-view+json": {
       "model_id": "89bc7ca1bb7d4c6d8a9d68b95499e86e",
       "version_major": 2,
       "version_minor": 0
      },
      "text/plain": [
       "interactive(children=(Text(value='', description='input_value'), Output()), _dom_classes=('widget-interact',))"
      ]
     },
     "metadata": {},
     "output_type": "display_data"
    },
    {
     "name": "stdout",
     "output_type": "stream",
     "text": [
      "[2025-03-19 10:47:09 UTC][ZED][INFO] Logging level INFO\n",
      "[2025-03-19 10:47:09 UTC][ZED][INFO] Logging level INFO\n",
      "[2025-03-19 10:47:09 UTC][ZED][INFO] Logging level INFO\n",
      "[2025-03-19 10:47:10 UTC][ZED][INFO] [Init]  Depth mode: ULTRA\n",
      "[2025-03-19 10:47:11 UTC][ZED][INFO] [Init]  Camera successfully opened.\n",
      "[2025-03-19 10:47:11 UTC][ZED][INFO] [Init]  Camera FW version: 1523\n",
      "[2025-03-19 10:47:11 UTC][ZED][INFO] [Init]  Video mode: VGA@100\n",
      "[2025-03-19 10:47:11 UTC][ZED][INFO] [Init]  Serial Number: S/N 34032459\n"
     ]
    }
   ],
   "source": [
    "\n",
    "#create widgets for the displaying of the image\n",
    "display_color = widgets.Image(format='jpeg', width='30%') #determine the width of the color image\n",
    "display_depth = widgets.Image(format='jpeg', width='30%')  #determine the width of the depth image\n",
    "layout=widgets.Layout(width='100%')\n",
    "sidebyside = widgets.HBox([display_color, display_depth],layout=layout) #horizontal \n",
    "display(sidebyside)\n",
    "\n",
    "class Camera():\n",
    "    def __init__(self):\n",
    "        super(Camera, self).__init__()\n",
    "\n",
    "        self.zed = sl.Camera()\n",
    "        # Create a InitParameters object and set configuration parameters\n",
    "        init_params = sl.InitParameters()\n",
    "        init_params.camera_resolution = sl.RESOLUTION.VGA #VGA(672*376), HD720(1280*720), HD1080 (1920*1080) or ...\n",
    "        init_params.depth_mode = sl.DEPTH_MODE.ULTRA  # Use ULTRA depth mode\n",
    "        init_params.coordinate_units = sl.UNIT.MILLIMETER  # Use meter units (for depth measurements)\n",
    "\n",
    "        # Open the camera\n",
    "        status = self.zed.open(init_params)\n",
    "        if status != sl.ERROR_CODE.SUCCESS: #Ensure the camera has opened succesfully\n",
    "            print(\"Camera Open : \"+repr(status)+\". Exit program.\")\n",
    "            self.zed.close()\n",
    "            exit(1)\n",
    "\n",
    "         # Create and set RuntimeParameters after opening the camera\n",
    "        self.runtime = sl.RuntimeParameters()\n",
    "\n",
    "        #flag to control the thread\n",
    "        self.thread_runnning_flag = False\n",
    "\n",
    "        # Get the height and width\n",
    "        camera_info = self.zed.get_camera_information()\n",
    "        self.width = camera_info.camera_configuration.resolution.width\n",
    "        self.height = camera_info.camera_configuration.resolution.height\n",
    "        self.image = sl.Mat(self.width,self.height,sl.MAT_TYPE.U8_C4, sl.MEM.CPU)\n",
    "        self.depth = sl.Mat(self.width,self.height,sl.MAT_TYPE.F32_C1, sl.MEM.CPU)\n",
    "        self.point_cloud = sl.Mat(self.width,self.height,sl.MAT_TYPE.F32_C4, sl.MEM.CPU)\n",
    "        self.output = None\n",
    "\n",
    "        self.count = 0\n",
    "\n",
    "    def _capture_frames(self):\n",
    "        while(self.thread_runnning_flag==True): #continue until the thread_runnning_flag is set to be False\n",
    "           \n",
    "            if self.zed.grab(self.runtime) == sl.ERROR_CODE.SUCCESS:\n",
    "                \n",
    "                \n",
    "                # Retrieve Left image\n",
    "                self.zed.retrieve_image(self.image, sl.VIEW.LEFT)\n",
    "                # Retrieve depth map. Depth is aligned on the left image\n",
    "                self.zed.retrieve_measure(self.depth, sl.MEASURE.DEPTH)\n",
    "                # Retrieve colored point cloud. Point cloud is aligned on the left image.\n",
    "                self.zed.retrieve_measure(self.point_cloud, sl.MEASURE.XYZRGBA)\n",
    "\n",
    "                self.color_value = self.image.get_data()\n",
    "                cv2.putText(self.color_value, 'o', (self.width//2,self.height//2), cv2.FONT_HERSHEY_SIMPLEX, 1, (0, 255, 0), 2, cv2.LINE_AA)\n",
    "                display_color.value = bgr8_to_jpeg(self.color_value)\n",
    "\n",
    "                \n",
    "                #self.output.write(self.color_value)\n",
    "                self.depth_image = np.asanyarray(self.depth.get_data())\n",
    "                depth_colormap = cv2.applyColorMap(cv2.convertScaleAbs(self.depth_image, alpha=0.03), cv2.COLORMAP_JET) \n",
    "                cv2.putText(depth_colormap, str(self.depth_image[self.height//2,self.width//2]), (self.width//2,self.height//2), cv2.FONT_HERSHEY_SIMPLEX, 1, (0, 255, 0), 2, cv2.LINE_AA)\n",
    "                display_depth.value = bgr8_to_jpeg(depth_colormap)\n",
    "                \n",
    "                # # We measure the distance camera - object using Euclidean distance\n",
    "                x = round(self.width / 2)\n",
    "                y = round(self.height / 2)\n",
    "                err, point_cloud_value = self.point_cloud.get_value(x, y)  \n",
    "                # Your mission here \n",
    "    \n",
    "    def start(self): #start the data capture thread\n",
    "        if self.thread_runnning_flag == False: #only process if no thread is running yet\n",
    "            self.thread_runnning_flag=True #flag to control the operation of the _capture_frames function\n",
    "            self.thread = threading.Thread(target=self._capture_frames) #link thread with the function\n",
    "            self.thread.start() #start the thread       \n",
    "\n",
    "    def stop(self): #stop the data capture thread\n",
    "        if self.thread_runnning_flag == True:\n",
    "            self.thread_runnning_flag = False #exit the while loop in the _capture_frames\n",
    "            self.thread.join() #wait the exiting of the thread    \n",
    "            self.output.release() \n",
    "\n",
    "    def screenshot(self, direction):\n",
    "        image = self.color_value\n",
    "        cv2.imwrite(f\"{direction}_{str(self.count)}.png\", image)\n",
    "        self.count += 1\n",
    "\n",
    "def bgr8_to_jpeg(value):#convert numpy array to jpeg coded data for displaying \n",
    "    return bytes(cv2.imencode('.jpg',value)[1])\n",
    "\n",
    "#initialize the Robot class\n",
    "robot = motors.MotorsYukon(mecanum=False)\n",
    "\n",
    "def on_text_change(input_value):\n",
    "    if not input_value:\n",
    "        return\n",
    "    if(input_value[-1] == 'w'): #only use the last letter\n",
    "        camera.screenshot('forward')\n",
    "        robot.forward(0.1) \n",
    "        time.sleep(0.1)\n",
    "        robot.stop()\n",
    "    elif(input_value[-1] == 's'):\n",
    "        camera.screenshot('backward')\n",
    "        robot.backward(0.1)\n",
    "        time.sleep(0.1)\n",
    "        robot.stop()\n",
    "    elif(input_value[-1] == 'a'):\n",
    "        camera.screenshot('left')\n",
    "        robot.left(0.1) \n",
    "        time.sleep(0.1)\n",
    "        robot.stop()\n",
    "    elif(input_value[-1] == 'd'):\n",
    "        camera.screenshot('right')\n",
    "        robot.right(0.1)\n",
    "        time.sleep(0.1)\n",
    "        robot.stop()\n",
    "    elif(input_value[-1] == 't'):\n",
    "        camera.screenshot('static')\n",
    "        print(\"Saved\")\n",
    "    elif(input_value[-1] == 'q'):\n",
    "        robot.stop() \n",
    "text_input = widgets.Text(value='', placeholder='Type something', description='Input:', disabled=False)\n",
    "#text_input.observe(on_text_change, names='value')\n",
    "interact(on_text_change, input_value='')\n",
    "\n",
    "camera = Camera()\n",
    "\n",
    "camera.start() # start capturing the data"
   ]
  },
  {
   "cell_type": "markdown",
   "id": "124b0bd9-099f-4d54-b345-198283a0cfee",
   "metadata": {},
   "source": [
    "# Extracting Yellow from Image"
   ]
  },
  {
   "cell_type": "code",
   "execution_count": 3,
   "id": "f429846b-bb82-417b-bb84-4d98f83df78e",
   "metadata": {},
   "outputs": [],
   "source": [
    "def extract_yellow(frame):\n",
    "    hsv = cv2.cvtColor(frame, cv2.COLOR_BGR2HSV)\n",
    "\n",
    "    lower_bound = np.array([30,40,120])\n",
    "    upper_bound = np.array([75, 255, 255])\n",
    "\n",
    "    mask = cv2.inRange(hsv, lower_bound, upper_bound)\n",
    "\n",
    "    return cv2.bitwise_and(frame, frame, mask=mask), mask"
   ]
  },
  {
   "cell_type": "code",
   "execution_count": null,
   "id": "ae87ff23-4689-42e6-a253-7fad575f799b",
   "metadata": {},
   "outputs": [],
   "source": [
    "def centre_rope(frame, mask):\n",
    "    contours,_ = cv2.findContours(mask, cv2.RETR_EXTERNAL, cv2.CHAIN_APPROX_SIMPLE)\n",
    "\n",
    "    if contours:\n",
    "        largest_contour = max(contours, key=cv2.contourArea)\n",
    "\n",
    "        x,y,w,h = cv2.boundingRect(largest_contour)\n",
    "\n",
    "        centre_x = x + w // 2\n",
    "        centre_y = y + h // 2\n",
    "        \n",
    "        margin_width = 200\n",
    "        margin_height = 150\n",
    "        \n",
    "        x1 = max(centre_x - margin_width // 2, 0)\n",
    "        y1 = max(centre_y - margin_height // 2, 0)\n",
    "        x2 = min(centre_x + margin_width // 2, frame.shape[1])\n",
    "        y2 = min(centre_y + margin_height // 2, frame.shape[0])\n",
    "        cropped_image = frame[y1:y2,x1:x2]\n",
    "        \n",
    "        rope_centre_x = x + w // 2\n",
    "        return cropped_image, (centre_x, centre_y)\n",
    "    return None, None"
   ]
  },
  {
   "cell_type": "code",
   "execution_count": 11,
   "id": "fd2b03ae-ebda-4bb5-8950-e61378b232d1",
   "metadata": {},
   "outputs": [
    {
     "data": {
      "image/png": "[encoded data removed]",
      "text/plain": [
       "<Figure size 640x480 with 1 Axes>"
      ]
     },
     "metadata": {},
     "output_type": "display_data"
    }
   ],
   "source": [
    "img = cv2.imread(\"forward_0.png\")\n",
    "frame, mask = extract_yellow(img)\n",
    "\n",
    "    margin = 20\n",
    "    x1 = max(x - margin, 0)\n",
    "    y1 = max(y - margin, 0)\n",
    "    x2 = min(x + w + margin, image.shape[1])\n",
    "    y2 = min(y + h + margin, image.shape[0])\n",
    "    cropped_image = frame[y1:y2,x1:x2]\n",
    "\n",
    "frame_rgb = cv2.cvtColor(frame, cv2.COLOR_BGR2RGB)\n",
    "plt.imshow(frame)\n",
    "plt.axis('off')  # Turn off axis\n",
    "plt.show()"
   ]
  },
  {
   "cell_type": "markdown",
   "id": "6776f456-7628-45d7-9301-f66f99237cac",
   "metadata": {},
   "source": [
    "# Zip and Download Dataset"
   ]
  },
  {
   "cell_type": "code",
   "execution_count": 1,
   "id": "ee15573d-0e71-4b1b-8069-7db4e1d29709",
   "metadata": {},
   "outputs": [
    {
     "data": {
      "text/html": [
       "<a href='images_cropped.zip' target='_blank'>images_cropped.zip</a><br>"
      ],
      "text/plain": [
       "/home/robotics/Documents/notebooks/images_cropped.zip"
      ]
     },
     "execution_count": 1,
     "metadata": {},
     "output_type": "execute_result"
    }
   ],
   "source": [
    "import shutil\n",
    "from IPython.display import FileLink\n",
    "\n",
    "# Path to the folder you want to zip\n",
    "folder_path = 'images_cropped'\n",
    "output_zip = 'images_cropped.zip'  # Desired name for the zip file\n",
    "\n",
    "# Create a zip archive of the folder\n",
    "shutil.make_archive(output_zip.replace('.zip', ''), 'zip', folder_path)\n",
    "\n",
    "# Provide a download link\n",
    "FileLink(output_zip)"
   ]
  },
  {
   "cell_type": "code",
   "execution_count": null,
   "id": "56c8be28-8717-4ed5-80a9-2a33560de0a7",
   "metadata": {},
   "outputs": [],
   "source": []
  }
 ],
 "metadata": {
  "kernelspec": {
   "display_name": "Python 3 (ipykernel)",
   "language": "python",
   "name": "python3"
  },
  "language_info": {
   "codemirror_mode": {
    "name": "ipython",
    "version": 3
   },
   "file_extension": ".py",
   "mimetype": "text/x-python",
   "name": "python",
   "nbconvert_exporter": "python",
   "pygments_lexer": "ipython3",
   "version": "3.10.12"
  }
 },
 "nbformat": 4,
 "nbformat_minor": 5
}
